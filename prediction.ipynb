{
 "cells": [
  {
   "cell_type": "code",
   "execution_count": 3,
   "metadata": {
    "collapsed": true
   },
   "outputs": [],
   "source": [
    "%matplotlib inline\n",
    "import seaborn as sns\n",
    "import numpy as np\n",
    "import pandas as pd\n",
    "import matplotlib.pyplot as plt\n",
    "from sklearn.preprocessing import LabelEncoder\n",
    "from sklearn.preprocessing import StandardScaler\n",
    "from sklearn.model_selection import cross_val_predict\n",
    "from sklearn.linear_model import LinearRegression\n",
    "from sklearn import metrics\n",
    "from sklearn.model_selection import cross_val_score\n",
    "from sklearn.feature_selection import RFE\n",
    "from sklearn.tree import DecisionTreeRegressor\n",
    "from sklearn.ensemble import RandomForestRegressor\n",
    "from sklearn.metrics import mean_squared_error\n",
    "from sklearn.model_selection import train_test_split\n",
    "from sklearn.neighbors import KNeighborsRegressor\n",
    "from sklearn.svm import SVR"
   ]
  },
  {
   "cell_type": "markdown",
   "metadata": {},
   "source": [
    "## Defining all the functions\n",
    "1. standardizeData -- To standardize the data using sklearn \n",
    "2. crossValScore -- to perform cross validation and return the score\n",
    "3. crossValPredict -- to perform cross validation and return the predicted value\n",
    "4. testTrainSlipt -- to split the test and train split on data"
   ]
  },
  {
   "cell_type": "code",
   "execution_count": 4,
   "metadata": {
    "collapsed": true
   },
   "outputs": [],
   "source": [
    "# standardizes the data to get better regression fit.\n",
    "#another scaling technique is called Robust scaler that removes the median and scales the data in IQR\n",
    "def standardizeData(data):\n",
    "    scaler = StandardScaler()\n",
    "    car_Prepared = pd.DataFrame(scaler.fit_transform(cars))\n",
    "\n",
    "# cross validation score is a sklearn API that performs k fold cross validation on a given input data, estimator \n",
    "# and error scoring and return a list of score of k value\n",
    "\n",
    "def crossValScore(est,car_Prepared,cars_price,errVal,cv):\n",
    "    scores = cross_val_score(est, car_Prepared, cars_price,scoring=errVal, cv=cv)\n",
    "    if errVal =='neg_mean_squared_error':\n",
    "        scores = np.sqrt(-scores)\n",
    "    display_scores(scores)\n",
    "    return scores\n",
    "\n",
    "# cross validation predict is a sklearn API that performs k fold cross validation on a given input data and estimator \n",
    "# and return the predicted value\n",
    "\n",
    "def crossValPredict(est,car_Prepared,cars_price, cv):\n",
    "    y = cross_val_predict(est, car_Prepared, cars_price, cv = cv)\n",
    "    return y\n",
    "# train_test_split is a sklearn API that performs a random split with the specified test size on the input data\n",
    "# and returns test and train data.\n",
    "def testTrainSlipt(data, testSize):\n",
    "    train_set, test_set = train_test_split(data, test_size = testSize, random_state = 42)\n",
    "    return train_set, test_set"
   ]
  },
  {
   "cell_type": "markdown",
   "metadata": {},
   "source": [
    "1. r2score -- to calculate the r2 score for predicted value\n",
    "2. rootmeanSqError -- to calculate the root mean score error for predicted value"
   ]
  },
  {
   "cell_type": "code",
   "execution_count": 5,
   "metadata": {
    "collapsed": true
   },
   "outputs": [],
   "source": [
    "def r2Score(x,y):\n",
    "    z = metrics.r2_score(x, y)\n",
    "    return z\n",
    "\n",
    "def rootmeanSqError(x,y):\n",
    "    final_mse = mean_squared_error(x, y)\n",
    "    final_rmse = np.sqrt(final_mse)\n",
    "    return final_rmse"
   ]
  },
  {
   "cell_type": "markdown",
   "metadata": {},
   "source": [
    "1. display_scores -- to calculate mean, standard deviation of the list\n",
    "2. removePriceColumn -- to remove price column from the data and return price column and data separately"
   ]
  },
  {
   "cell_type": "code",
   "execution_count": 6,
   "metadata": {
    "collapsed": true
   },
   "outputs": [],
   "source": [
    "def display_scores(scores):\n",
    "    print(\"Scores:\", scores)\n",
    "    print(\"Mean:\", scores.mean())\n",
    "    print(\"Standard deviation:\", scores.std())\n",
    "\n",
    "def removePriceColumn(data):\n",
    "    price = data[\"price\"].copy()\n",
    "    data_M = data.drop(\"price\", axis=1)\n",
    "    return price, data_M"
   ]
  },
  {
   "cell_type": "markdown",
   "metadata": {},
   "source": [
    "1. randomForest -- to fit the random forest model\n",
    "2. randomForest_Predict -- to predict the value using fitted random forest model\n",
    "3. linearRegression -- to fit the linear regression model\n",
    "4. linearRegression_Predict -- to predict the value using fitted linear regression model\n",
    "5. decisionTree -- to fit the decision model model\n",
    "6. decisionTree_Predict -- to predict the value using fitted decision tree regression model\n",
    "7. recursiveFeatureExtraction -- it is a sklearn API for Feature ranking with recursive feature elimination"
   ]
  },
  {
   "cell_type": "code",
   "execution_count": 7,
   "metadata": {
    "collapsed": true
   },
   "outputs": [],
   "source": [
    "def randomForest(i, cv, train = [], value= []):\n",
    "    forest_reg = RandomForestRegressor(n_estimators=i,random_state=42, n_jobs =-1, max_depth = 15)\n",
    "    if cv != True:\n",
    "        forest_reg.fit(train, value)\n",
    "    return forest_reg\n",
    "    \n",
    "    \n",
    "def randomForest_Predict(forest_reg, test):\n",
    "    return forest_reg.predict(test)\n",
    "\n",
    "def linearRegression(cv,train = [], value=[]):\n",
    "    LRmodel = LinearRegression(n_jobs = -1)\n",
    "    if cv != True:\n",
    "        LRmodel.fit(train, value)\n",
    "    return LRmodel\n",
    "    \n",
    "\n",
    "def linearRegression_Predict(LRmodel, test):\n",
    "    return LRmodel.predict(test)\n",
    "\n",
    "def decisionTree(cv,train = [],value= []):\n",
    "    tree_reg = DecisionTreeRegressor(random_state=42)\n",
    "    if cv != True:\n",
    "        tree_reg.fit(train,value)\n",
    "    return tree_reg\n",
    "\n",
    "def decisionTree_Predict(tree_reg,test):\n",
    "    return tree_reg.predict(test)\n",
    "\n",
    "def recursiveFeatureElimination(model, features,train,value):\n",
    "    selector = RFE(model, features,step=1)\n",
    "    selector = selector.fit(train, value)\n",
    "    return selector.ranking_"
   ]
  },
  {
   "cell_type": "markdown",
   "metadata": {},
   "source": [
    "## Reading data and deleting the below columns from it:\n",
    "['make','engine', 'model','trim', 'longitude', 'latitude','sales_week','sales_date', 'transaction_id']"
   ]
  },
  {
   "cell_type": "code",
   "execution_count": 8,
   "metadata": {},
   "outputs": [],
   "source": [
    "car_Initial = pd.read_csv('hw_data_set_1.csv')\n",
    "del_cols = ['make','engine', 'model','trim', 'longitude', 'latitude','sales_week','sales_date', 'transaction_id']\n",
    "\n",
    "car_Initial.drop(del_cols,axis=1,inplace=True)\n",
    "\n",
    "cat= car_Initial.columns[car_Initial.dtypes==object]\n",
    "le= LabelEncoder()\n",
    "\n",
    "for col in cat:\n",
    "    car_Initial[col]= le.fit_transform(car_Initial[col])"
   ]
  },
  {
   "cell_type": "markdown",
   "metadata": {},
   "source": [
    "## Creating two datasets:\n",
    "1. car_Initial -- it contains all the records\n",
    "2. car_Modified -- it contains all the records whose price is less than 100,000 (removing the outliers)"
   ]
  },
  {
   "cell_type": "code",
   "execution_count": 9,
   "metadata": {
    "collapsed": true
   },
   "outputs": [],
   "source": [
    "car_Modified = car_Initial[car_Initial.price <70000]\n",
    "\n",
    "train_set_I, test_set_I = train_test_split(car_Initial, test_size = 0.2, random_state = 42)\n",
    "train_set_M, test_set_M = train_test_split(car_Modified, test_size = 0.2, random_state = 42)\n",
    "\n",
    "\n",
    "\n",
    "#price_M, car_M = removePriceColumn(car_Modified)\n",
    "price_train_I, car_train_I = removePriceColumn(train_set_I)\n",
    "price_test_I, car_test_I = removePriceColumn(test_set_I)\n",
    "\n",
    "price_train_M, car_train_M = removePriceColumn(train_set_M)\n",
    "price_test_M, car_test_M = removePriceColumn(test_set_M)\n",
    "\n",
    "\n",
    "price_car_Modified, data_car_Modified = removePriceColumn(car_Modified)\n",
    "price_car_Initial, data_car_Initial = removePriceColumn(car_Initial)"
   ]
  },
  {
   "cell_type": "markdown",
   "metadata": {},
   "source": [
    "## Lets try different regression model"
   ]
  },
  {
   "cell_type": "markdown",
   "metadata": {},
   "source": [
    "## Performing linear regression\n",
    " fitting the model on car_modified train data and predicting the price for both car_Modified test and car_Initial test"
   ]
  },
  {
   "cell_type": "code",
   "execution_count": 8,
   "metadata": {},
   "outputs": [
    {
     "name": "stdout",
     "output_type": "stream",
     "text": [
      "rmse: M= 1329.77259958 , I= 14214.6050941\n",
      "r2: M= 0.981849092061 , I= -0.887560981974\n"
     ]
    }
   ],
   "source": [
    "linearReg_M = linearRegression(False, car_train_M, price_train_M)\n",
    "linearReg_Out_M = linearRegression_Predict(linearReg_M, car_test_M)\n",
    "\n",
    "linearReg_r2_M = r2Score(linearReg_Out_M,price_test_M)\n",
    "linearReg_rmse_M = rootmeanSqError(linearReg_Out_M,price_test_M)\n",
    "\n",
    "#linearReg_I = linearRegression(car_train_I, price_train_I)\n",
    "linearReg_Out_I = linearRegression_Predict(linearReg_M, car_test_I)\n",
    "\n",
    "linearReg_r2_I = r2Score(linearReg_Out_I,price_test_I)\n",
    "linearReg_rmse_I = rootmeanSqError(linearReg_Out_I,price_test_I)\n",
    "\n",
    "print(\"rmse: M=\",linearReg_rmse_M, \", I=\",linearReg_rmse_I )\n",
    "print(\"r2: M=\",linearReg_r2_M, \", I=\",linearReg_r2_I )"
   ]
  },
  {
   "cell_type": "markdown",
   "metadata": {},
   "source": [
    "## Performing cross validation on linear regression\n",
    "\n",
    "performing the 10 fold cross validation on linear regression with the car_Modified dataset"
   ]
  },
  {
   "cell_type": "code",
   "execution_count": 12,
   "metadata": {},
   "outputs": [
    {
     "name": "stdout",
     "output_type": "stream",
     "text": [
      "RMSE error\n",
      "Scores: [ 1455.21347757  1427.47757485  1453.46596974  1285.46331065  1445.5689155\n",
      "  1480.05497644  1412.71797544  1413.18001772  1391.02471036  1374.67913298]\n",
      "Mean: 1413.88460612\n",
      "Standard deviation: 52.3406846432\n",
      "\n",
      "R2 error\n",
      "Scores: [ 0.97870018  0.97988539  0.97883219  0.98324035  0.97937488  0.97809482\n",
      "  0.97999682  0.98047512  0.98046218  0.98071206]\n",
      "Mean: 0.979977399427\n",
      "Standard deviation: 0.00136117789922\n"
     ]
    }
   ],
   "source": [
    "linearReg = linearRegression(True)\n",
    "print('RMSE error')\n",
    "linearRegCrossVal_RMSE = crossValScore(linearReg,data_car_Modified,price_car_Modified,'neg_mean_squared_error',10)\n",
    "print('\\nR2 error')\n",
    "linearRegCrossVal_r2 = crossValScore(linearReg,data_car_Modified,price_car_Modified,'r2',10)"
   ]
  },
  {
   "cell_type": "markdown",
   "metadata": {},
   "source": [
    "## Performing decision tree regression\n",
    "\n",
    " fitting the decision tree regression model on car_modified train data and predicting the price for both car_Modified test and car_Initial test"
   ]
  },
  {
   "cell_type": "code",
   "execution_count": 9,
   "metadata": {},
   "outputs": [
    {
     "name": "stdout",
     "output_type": "stream",
     "text": [
      "rmse: M-- 1930.73690487 , I-- 14182.4000801\n",
      "r2: M-- 0.962668517513 , I-- -0.90662162794\n"
     ]
    }
   ],
   "source": [
    "decisionTreeReg_M = decisionTree(False,car_train_M, price_train_M)\n",
    "decisionTreeReg_Out_M = decisionTree_Predict(decisionTreeReg_M, car_test_M)\n",
    "\n",
    "decisionTreeReg_r2_M = r2Score(decisionTreeReg_Out_M,price_test_M)\n",
    "decisionTreeReg_rmse_M = rootmeanSqError(decisionTreeReg_Out_M,price_test_M)\n",
    "\n",
    "#decisionTreeReg_I = decisionTree(car_train_I, price_train_I)\n",
    "decisionTreeReg_Out_I = decisionTree_Predict(decisionTreeReg_M, car_test_I)\n",
    "\n",
    "decisionTreeReg_r2_I = r2Score(decisionTreeReg_Out_I,price_test_I)\n",
    "decisionTreeReg_rmse_I = rootmeanSqError(decisionTreeReg_Out_I,price_test_I)\n",
    "\n",
    "print(\"rmse: M--\",decisionTreeReg_rmse_M, \", I--\",decisionTreeReg_rmse_I )\n",
    "print(\"r2: M--\",decisionTreeReg_r2_M, \", I--\",decisionTreeReg_r2_I)"
   ]
  },
  {
   "cell_type": "markdown",
   "metadata": {},
   "source": [
    "## Performing cross validation on decision tree regression\n",
    "performing the 10 fold cross validation on decision tree regression with the car_Modified dataset"
   ]
  },
  {
   "cell_type": "code",
   "execution_count": 13,
   "metadata": {},
   "outputs": [
    {
     "name": "stdout",
     "output_type": "stream",
     "text": [
      "RMSE error\n",
      "Scores: [ 1774.58457094  1993.54560356  2144.86900968  1720.89682504  1774.52383518\n",
      "  1868.67615332  2106.99805847  1876.24583307  1699.75260062  1873.22535902]\n",
      "Mean: 1883.33178489\n",
      "Standard deviation: 146.524436647\n",
      "\n",
      "R2 error\n",
      "Scores: [ 0.96832505  0.96076935  0.95390353  0.96996309  0.96891989  0.96508121\n",
      "  0.95550447  0.96558301  0.97082722  0.96418515]\n",
      "Mean: 0.964306197371\n",
      "Standard deviation: 0.00558929440767\n"
     ]
    }
   ],
   "source": [
    "decisionTreeReg= decisionTree(True)\n",
    "print('RMSE error')\n",
    "decisionTreeCrossVal_RMSE = crossValScore(decisionTreeReg,data_car_Modified,price_car_Modified,'neg_mean_squared_error',10)\n",
    "print('\\nR2 error')\n",
    "decisionTreeCrossVal_r2 = crossValScore(decisionTreeReg,data_car_Modified,price_car_Modified,'r2',10)"
   ]
  },
  {
   "cell_type": "markdown",
   "metadata": {},
   "source": [
    "## Performing random forest regression\n",
    "\n",
    "fitting the random forest regression model with different a range of trees on car_modified train data and predicting the price for both car_Modified test and car_Initial test"
   ]
  },
  {
   "cell_type": "code",
   "execution_count": 16,
   "metadata": {},
   "outputs": [
    {
     "data": {
      "text/plain": [
       "[<matplotlib.lines.Line2D at 0x14727be8780>]"
      ]
     },
     "execution_count": 16,
     "metadata": {},
     "output_type": "execute_result"
    },
    {
     "data": {
      "image/png": "[encoded data removed]",
      "text/plain": [
       "<matplotlib.figure.Figure at 0x1473ed92080>"
      ]
     },
     "metadata": {},
     "output_type": "display_data"
    }
   ],
   "source": [
    "r2_RandomForest = []\n",
    "rmse_RandomForest = []\n",
    "r2_RandomForest_I = []\n",
    "rmse_RandomForest_I = []\n",
    "iteration = []\n",
    "for i in range(80,500,10):\n",
    "    #print(\"Number of trees in forest: \",i)\n",
    "    iteration.append(i)\n",
    "    randomForestReg_M = randomForest(i,False,car_train_M, price_train_M)\n",
    "    randomForestReg_Out_M = randomForest_Predict(randomForestReg_M, car_test_M)\n",
    "\n",
    "    r2_RandomForest.append(r2Score(randomForestReg_Out_M,price_test_M))\n",
    "    rmse_RandomForest.append(rootmeanSqError(randomForestReg_Out_M,price_test_M))\n",
    "\n",
    "    \n",
    "    randomForestReg_Out_I = randomForest_Predict(randomForestReg_M, car_test_I)\n",
    "\n",
    "    r2_RandomForest_I.append(r2Score(randomForestReg_Out_I,price_test_I))\n",
    "    rmse_RandomForest_I.append(rootmeanSqError(randomForestReg_Out_I,price_test_I))\n",
    "\n",
    "    #print(\"rmse: M--\",randomForestReg_rmse_M, \", I--\",randomForestReg_rmse_I )\n",
    "    #print(\"r2: M--\",randomForestReg_r2_M, \", I--\",randomForestReg_r2_I,'\\n')\n",
    "    \n",
    "plt.plot(iteration, r2_RandomForest)"
   ]
  },
  {
   "cell_type": "markdown",
   "metadata": {},
   "source": [
    "It is evident from the above graph that the r2 score does not changes significantly over the range of 80 to 500 so I am choosing 135 trees.\n",
    "\n",
    "## Performing cross validation on random forest regression\n",
    "performing the 10 fold cross validation on random forest regression with the car_Modified dataset"
   ]
  },
  {
   "cell_type": "code",
   "execution_count": 36,
   "metadata": {},
   "outputs": [
    {
     "name": "stdout",
     "output_type": "stream",
     "text": [
      "RMSE error\n",
      "Scores: [ 1443.58330168  1429.94185162  1472.2269776   1252.94512249  1444.04561003\n",
      "  1463.59382159  1432.79404138  1407.96928542  1353.83145526  1378.4135655 ]\n",
      "Mean: 1407.93450326\n",
      "Standard deviation: 62.2326166748\n",
      "\n",
      "R2 error\n",
      "Scores: [ 0.97903928  0.97981588  0.97828221  0.98407756  0.97941833  0.97857937\n",
      "  0.97942425  0.98061884  0.98149302  0.98060713]\n",
      "Mean: 0.980135585487\n",
      "Standard deviation: 0.00161304083777\n"
     ]
    }
   ],
   "source": [
    "randomForestReg = randomForest(135,True)\n",
    "print('RMSE error')\n",
    "randomCrossVal_RMSE = crossValScore(randomForestReg, data_car_Modified,price_car_Modified,'neg_mean_squared_error',10)\n",
    "print('\\nR2 error')\n",
    "randomCrossVal_r2 = crossValScore(randomForestReg,data_car_Modified,price_car_Modified,'r2',10)"
   ]
  },
  {
   "cell_type": "markdown",
   "metadata": {},
   "source": [
    "## Performing K nearset neighbours regression\n",
    "\n",
    "fitting the K nearset neighbours regression model for a range of k values on car_modified train data and predicting the price for both car_Modified test and car_Initial test"
   ]
  },
  {
   "cell_type": "code",
   "execution_count": 11,
   "metadata": {},
   "outputs": [
    {
     "data": {
      "text/plain": [
       "[<matplotlib.lines.Line2D at 0x23bc28e7a90>]"
      ]
     },
     "execution_count": 11,
     "metadata": {},
     "output_type": "execute_result"
    },
    {
     "data": {
      "image/png": "[encoded data removed]",
      "text/plain": [
       "<matplotlib.figure.Figure at 0x23bc0065f28>"
      ]
     },
     "metadata": {},
     "output_type": "display_data"
    }
   ],
   "source": [
    "r2_KNN = []\n",
    "rmse_KNN = []\n",
    "r2_KNN_I = []\n",
    "rmse_KNN_I = []\n",
    "iteration_KNN = []\n",
    "for i in range(1,52,5):\n",
    "    #print(\"Number of neighbors: \", i)\n",
    "    iteration_KNN.append(i)\n",
    "    reg = KNeighborsRegressor(n_neighbors=i)\n",
    "    reg.fit (car_train_M, price_train_M) \n",
    "    predictM = reg.predict(car_test_M)\n",
    "    predictI = reg.predict(car_test_I)\n",
    "\n",
    "    r2_KNN.append(r2Score(predictM,price_test_M))\n",
    "    rmse_KNN.append(rootmeanSqError(predictM,price_test_M))\n",
    "    \n",
    "    r2_KNN_I.append(r2Score(predictI,price_test_I))\n",
    "    rmse_KNN_I.append(rootmeanSqError(predictI,price_test_I))\n",
    "\n",
    "    #print(\"rmse: M--\",rmse_M, \", I--\",rmse_I )\n",
    "    #print(\"r2: M--\",r2_M, \", I--\",r2_I,'\\n')\n",
    "plt.plot(iteration_KNN, r2_KNN)"
   ]
  },
  {
   "cell_type": "markdown",
   "metadata": {},
   "source": [
    "## Performing svr rbc kernel regression"
   ]
  },
  {
   "cell_type": "code",
   "execution_count": 11,
   "metadata": {},
   "outputs": [
    {
     "name": "stdout",
     "output_type": "stream",
     "text": [
      "[LibSVM]"
     ]
    },
    {
     "data": {
      "text/plain": [
       "SVR(C=1.0, cache_size=200, coef0=0.0, degree=3, epsilon=0.2, gamma='auto',\n",
       "  kernel='rbf', max_iter=-1, shrinking=True, tol=0.001, verbose=1)"
      ]
     },
     "execution_count": 11,
     "metadata": {},
     "output_type": "execute_result"
    }
   ],
   "source": [
    "clf = SVR(kernel = 'rbf',C=1.0, epsilon=0.2,verbose = 1)\n",
    "clf.fit(car_train_M, price_train_M) "
   ]
  },
  {
   "cell_type": "code",
   "execution_count": 13,
   "metadata": {},
   "outputs": [
    {
     "name": "stdout",
     "output_type": "stream",
     "text": [
      "rmse: M-- 9965.39203222 , I-- 17620.6749315\n",
      "r2: M-- -437315898.129 , I-- -230877653.813 \n",
      "\n"
     ]
    }
   ],
   "source": [
    "out_SVR = clf.predict(car_test_M)\n",
    "r2_score = r2Score(out_SVR,price_test_M)\n",
    "rmse_score = rootmeanSqError(out_SVR,price_test_M)\n",
    "\n",
    "#decisionTreeReg_I = decisionTree(car_train_I, price_train_I)\n",
    "out_SVR_I = clf.predict(car_test_I)\n",
    "r2_score_I = r2Score(out_SVR_I,price_test_I)\n",
    "rmse_score_I = rootmeanSqError(out_SVR_I,price_test_I)\n",
    "print(\"rmse: M--\",rmse_score, \", I--\",rmse_score_I )\n",
    "print(\"r2: M--\",r2_score, \", I--\",r2_score_I,'\\n')"
   ]
  },
  {
   "cell_type": "markdown",
   "metadata": {},
   "source": [
    "## Feature Importance\n",
    "\n",
    "Before performing the regression on the test data lets analyze the feature importance"
   ]
  },
  {
   "cell_type": "code",
   "execution_count": 35,
   "metadata": {},
   "outputs": [
    {
     "data": {
      "text/plain": [
       "array([18,  4, 14, 17, 16,  6,  1,  8,  9,  2,  5, 15, 10, 13, 11, 12,  3,\n",
       "        7])"
      ]
     },
     "execution_count": 35,
     "metadata": {},
     "output_type": "execute_result"
    }
   ],
   "source": [
    "rankFeatures = recursiveFeatureElimination(randomForestReg, 1,data_car_Modified,price_car_Modified )\n",
    "rankFeatures"
   ]
  },
  {
   "cell_type": "code",
   "execution_count": 40,
   "metadata": {},
   "outputs": [
    {
     "name": "stdout",
     "output_type": "stream",
     "text": [
      "[(1, 'transaction_msrp'), (2, 'zip'), (3, 'trim_id'), (4, 'model_id'), (5, 'State'), (6, 'base_msrp'), (7, 'make_id'), (8, 'destination'), (9, 'bodytype'), (10, 'customercash'), (11, 'lease'), (12, 'cash'), (13, 'finance'), (14, 'drive_type'), (15, 'dealercash'), (16, 'transmission'), (17, 'door'), (18, 'year')]\n"
     ]
    }
   ],
   "source": [
    "colList = list(data_car_Modified.columns)\n",
    "\n",
    "FeatureImportance = zip(rankFeatures, colList)\n",
    "FeatureImportance = sorted(FeatureImportance)\n",
    "print(FeatureImportance)"
   ]
  },
  {
   "cell_type": "markdown",
   "metadata": {},
   "source": [
    "## Conclusion:\n",
    "\n",
    "## Comparing the above 5 results we can infer that random forest performs best"
   ]
  },
  {
   "cell_type": "markdown",
   "metadata": {},
   "source": [
    "## Final Prediction\n",
    "\n",
    "I will be using random forest for car price prediction with number of trees = 135."
   ]
  },
  {
   "cell_type": "code",
   "execution_count": 67,
   "metadata": {
    "collapsed": true
   },
   "outputs": [],
   "source": [
    "#Reading the test file\n",
    "car_TestFile_Input = pd.read_csv('hw_data_set_2.csv')\n",
    "del_cols = ['make','engine', 'model','trim', 'longitude', 'latitude','sales_week','sales_date', 'transaction_id']\n",
    "car_TestFile = car_TestFile_Input.drop(del_cols,axis=1)\n",
    "\n",
    "cat= car_TestFile.columns[car_TestFile.dtypes==object]\n",
    "le= LabelEncoder()\n",
    "\n",
    "for col in cat:\n",
    "    car_TestFile[col]= le.fit_transform(car_TestFile[col])"
   ]
  },
  {
   "cell_type": "code",
   "execution_count": 73,
   "metadata": {},
   "outputs": [
    {
     "data": {
      "text/plain": [
       "year                0\n",
       "model_id            0\n",
       "drive_type          0\n",
       "door                0\n",
       "transmission        0\n",
       "base_msrp           0\n",
       "transaction_msrp    0\n",
       "destination         0\n",
       "bodytype            0\n",
       "zip                 0\n",
       "State               0\n",
       "dealercash          0\n",
       "customercash        0\n",
       "finance             0\n",
       "lease               0\n",
       "cash                0\n",
       "trim_id             0\n",
       "make_id             0\n",
       "dtype: int64"
      ]
     },
     "execution_count": 73,
     "metadata": {},
     "output_type": "execute_result"
    }
   ],
   "source": [
    "missing_values = car_TestFile.isnull().sum()\n",
    "missing_values"
   ]
  },
  {
   "cell_type": "code",
   "execution_count": 68,
   "metadata": {
    "collapsed": true
   },
   "outputs": [],
   "source": [
    "randomForestReg_Final = randomForest(135,False,data_car_Modified,price_car_Modified)\n",
    "randomForestReg_Out_M = randomForest_Predict(randomForestReg_Final, car_TestFile)"
   ]
  },
  {
   "cell_type": "code",
   "execution_count": 70,
   "metadata": {
    "collapsed": true
   },
   "outputs": [],
   "source": [
    "car_TestFile_Input['price'] = pd.Series(randomForestReg_Out_M, index=car_TestFile_Input.index)"
   ]
  },
  {
   "cell_type": "code",
   "execution_count": 71,
   "metadata": {},
   "outputs": [
    {
     "data": {
      "text/html": [
       "<div>\n",
       "<style>\n",
       "    .dataframe thead tr:only-child th {\n",
       "        text-align: right;\n",
       "    }\n",
       "\n",
       "    .dataframe thead th {\n",
       "        text-align: left;\n",
       "    }\n",
       "\n",
       "    .dataframe tbody tr th {\n",
       "        vertical-align: top;\n",
       "    }\n",
       "</style>\n",
       "<table border=\"1\" class=\"dataframe\">\n",
       "  <thead>\n",
       "    <tr style=\"text-align: right;\">\n",
       "      <th></th>\n",
       "      <th>sales_week</th>\n",
       "      <th>sales_date</th>\n",
       "      <th>transaction_id</th>\n",
       "      <th>year</th>\n",
       "      <th>make</th>\n",
       "      <th>model_id</th>\n",
       "      <th>model</th>\n",
       "      <th>drive_type</th>\n",
       "      <th>door</th>\n",
       "      <th>transmission</th>\n",
       "      <th>...</th>\n",
       "      <th>customercash</th>\n",
       "      <th>finance</th>\n",
       "      <th>lease</th>\n",
       "      <th>cash</th>\n",
       "      <th>trim</th>\n",
       "      <th>trim_id</th>\n",
       "      <th>make_id</th>\n",
       "      <th>longitude</th>\n",
       "      <th>latitude</th>\n",
       "      <th>price</th>\n",
       "    </tr>\n",
       "  </thead>\n",
       "  <tbody>\n",
       "    <tr>\n",
       "      <th>0</th>\n",
       "      <td>24OCT2009</td>\n",
       "      <td>24OCT2009</td>\n",
       "      <td>16272160</td>\n",
       "      <td>2010</td>\n",
       "      <td>BMW</td>\n",
       "      <td>60891</td>\n",
       "      <td>3 Series</td>\n",
       "      <td>RWD</td>\n",
       "      <td>4</td>\n",
       "      <td>Manual</td>\n",
       "      <td>...</td>\n",
       "      <td>0</td>\n",
       "      <td>0</td>\n",
       "      <td>1</td>\n",
       "      <td>0</td>\n",
       "      <td>4dr Sdn 328i RWD</td>\n",
       "      <td>1622188</td>\n",
       "      <td>2359</td>\n",
       "      <td>-86.765654</td>\n",
       "      <td>36.165353</td>\n",
       "      <td>34806.931075</td>\n",
       "    </tr>\n",
       "    <tr>\n",
       "      <th>1</th>\n",
       "      <td>24OCT2009</td>\n",
       "      <td>24OCT2009</td>\n",
       "      <td>16209273</td>\n",
       "      <td>2010</td>\n",
       "      <td>BMW</td>\n",
       "      <td>60891</td>\n",
       "      <td>3 Series</td>\n",
       "      <td>RWD</td>\n",
       "      <td>2</td>\n",
       "      <td>Manual</td>\n",
       "      <td>...</td>\n",
       "      <td>0</td>\n",
       "      <td>1</td>\n",
       "      <td>0</td>\n",
       "      <td>0</td>\n",
       "      <td>2dr Conv 328i</td>\n",
       "      <td>1622168</td>\n",
       "      <td>2359</td>\n",
       "      <td>-86.497541</td>\n",
       "      <td>33.592120</td>\n",
       "      <td>45186.901416</td>\n",
       "    </tr>\n",
       "    <tr>\n",
       "      <th>2</th>\n",
       "      <td>24OCT2009</td>\n",
       "      <td>24OCT2009</td>\n",
       "      <td>14586748</td>\n",
       "      <td>2010</td>\n",
       "      <td>BMW</td>\n",
       "      <td>60891</td>\n",
       "      <td>3 Series</td>\n",
       "      <td>RWD</td>\n",
       "      <td>4</td>\n",
       "      <td>Automatic</td>\n",
       "      <td>...</td>\n",
       "      <td>0</td>\n",
       "      <td>0</td>\n",
       "      <td>0</td>\n",
       "      <td>1</td>\n",
       "      <td>4dr Sdn 335d RWD</td>\n",
       "      <td>1622233</td>\n",
       "      <td>2359</td>\n",
       "      <td>-97.179563</td>\n",
       "      <td>33.359586</td>\n",
       "      <td>43289.115313</td>\n",
       "    </tr>\n",
       "    <tr>\n",
       "      <th>3</th>\n",
       "      <td>24OCT2009</td>\n",
       "      <td>24OCT2009</td>\n",
       "      <td>16262283</td>\n",
       "      <td>2010</td>\n",
       "      <td>BMW</td>\n",
       "      <td>60891</td>\n",
       "      <td>3 Series</td>\n",
       "      <td>RWD</td>\n",
       "      <td>4</td>\n",
       "      <td>Manual</td>\n",
       "      <td>...</td>\n",
       "      <td>0</td>\n",
       "      <td>0</td>\n",
       "      <td>0</td>\n",
       "      <td>1</td>\n",
       "      <td>4dr Sdn 328i RWD</td>\n",
       "      <td>1622188</td>\n",
       "      <td>2359</td>\n",
       "      <td>-84.319565</td>\n",
       "      <td>42.003218</td>\n",
       "      <td>33899.454526</td>\n",
       "    </tr>\n",
       "    <tr>\n",
       "      <th>4</th>\n",
       "      <td>24OCT2009</td>\n",
       "      <td>24OCT2009</td>\n",
       "      <td>10113511</td>\n",
       "      <td>2010</td>\n",
       "      <td>BMW</td>\n",
       "      <td>60891</td>\n",
       "      <td>3 Series</td>\n",
       "      <td>RWD</td>\n",
       "      <td>4</td>\n",
       "      <td>Manual</td>\n",
       "      <td>...</td>\n",
       "      <td>0</td>\n",
       "      <td>1</td>\n",
       "      <td>0</td>\n",
       "      <td>0</td>\n",
       "      <td>4dr Sdn 328i RWD</td>\n",
       "      <td>1622188</td>\n",
       "      <td>2359</td>\n",
       "      <td>-122.547172</td>\n",
       "      <td>48.023245</td>\n",
       "      <td>35711.305682</td>\n",
       "    </tr>\n",
       "  </tbody>\n",
       "</table>\n",
       "<p>5 rows × 28 columns</p>\n",
       "</div>"
      ],
      "text/plain": [
       "  sales_week sales_date  transaction_id  year make  model_id     model  \\\n",
       "0  24OCT2009  24OCT2009        16272160  2010  BMW     60891  3 Series   \n",
       "1  24OCT2009  24OCT2009        16209273  2010  BMW     60891  3 Series   \n",
       "2  24OCT2009  24OCT2009        14586748  2010  BMW     60891  3 Series   \n",
       "3  24OCT2009  24OCT2009        16262283  2010  BMW     60891  3 Series   \n",
       "4  24OCT2009  24OCT2009        10113511  2010  BMW     60891  3 Series   \n",
       "\n",
       "  drive_type  door transmission      ...       customercash finance  lease  \\\n",
       "0        RWD     4       Manual      ...                  0       0      1   \n",
       "1        RWD     2       Manual      ...                  0       1      0   \n",
       "2        RWD     4    Automatic      ...                  0       0      0   \n",
       "3        RWD     4       Manual      ...                  0       0      0   \n",
       "4        RWD     4       Manual      ...                  0       1      0   \n",
       "\n",
       "   cash              trim  trim_id make_id   longitude   latitude  \\\n",
       "0     0  4dr Sdn 328i RWD  1622188    2359  -86.765654  36.165353   \n",
       "1     0     2dr Conv 328i  1622168    2359  -86.497541  33.592120   \n",
       "2     1  4dr Sdn 335d RWD  1622233    2359  -97.179563  33.359586   \n",
       "3     1  4dr Sdn 328i RWD  1622188    2359  -84.319565  42.003218   \n",
       "4     0  4dr Sdn 328i RWD  1622188    2359 -122.547172  48.023245   \n",
       "\n",
       "          price  \n",
       "0  34806.931075  \n",
       "1  45186.901416  \n",
       "2  43289.115313  \n",
       "3  33899.454526  \n",
       "4  35711.305682  \n",
       "\n",
       "[5 rows x 28 columns]"
      ]
     },
     "execution_count": 71,
     "metadata": {},
     "output_type": "execute_result"
    }
   ],
   "source": [
    "car_TestFile_Input.head()"
   ]
  },
  {
   "cell_type": "code",
   "execution_count": 76,
   "metadata": {
    "collapsed": true
   },
   "outputs": [],
   "source": [
    "car_TestFile_Input.to_csv('hw_data_set_2.csv', index = False)"
   ]
  },
  {
   "cell_type": "markdown",
   "metadata": {},
   "source": [
    "## Excel comparision"
   ]
  },
  {
   "cell_type": "code",
   "execution_count": 14,
   "metadata": {
    "collapsed": true
   },
   "outputs": [],
   "source": [
    "randomForestReg_test = randomForest(135,False,car_train_M, price_train_M)\n",
    "randomForestReg_Outvalue = randomForest_Predict(randomForestReg_test, car_test_I)\n",
    "\n",
    "car_test_I['price'] = pd.Series(price_test_I, index=car_test_I.index)\n",
    "car_test_I['Predictedprice'] = pd.Series(randomForestReg_Outvalue, index=car_test_I.index)\n",
    "car_test_I.to_csv('test.csv', index = False)"
   ]
  }
 ],
 "metadata": {
  "kernelspec": {
   "display_name": "Python 3",
   "language": "python",
   "name": "python3"
  },
  "language_info": {
   "codemirror_mode": {
    "name": "ipython",
    "version": 3
   },
   "file_extension": ".py",
   "mimetype": "text/x-python",
   "name": "python",
   "nbconvert_exporter": "python",
   "pygments_lexer": "ipython3",
   "version": "3.6.3"
  }
 },
 "nbformat": 4,
 "nbformat_minor": 2
}
